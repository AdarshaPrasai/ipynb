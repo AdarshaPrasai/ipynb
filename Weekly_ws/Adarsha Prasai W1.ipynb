{
  "nbformat": 4,
  "nbformat_minor": 0,
  "metadata": {
    "colab": {
      "provenance": []
    },
    "kernelspec": {
      "name": "python3",
      "display_name": "Python 3"
    },
    "language_info": {
      "name": "python"
    }
  },
  "cells": [
    {
      "cell_type": "markdown",
      "source": [
        "Task set 1(1)"
      ],
      "metadata": {
        "id": "plDWroJ85mqg"
      }
    },
    {
      "cell_type": "code",
      "source": [
        "import numpy as np\n",
        "empty_arr = np.empty((2,2))\n",
        "print(\"An empty array of size 2x2 is: \", empty_arr)"
      ],
      "metadata": {
        "colab": {
          "base_uri": "https://localhost:8080/"
        },
        "id": "w8-59dHu5sVR",
        "outputId": "fa13a1e0-9151-406a-cfe4-aa9f2791f41b"
      },
      "execution_count": null,
      "outputs": [
        {
          "output_type": "stream",
          "name": "stdout",
          "text": [
            "An empty array of size 2x2 is:  [[4.97321661e-310 0.00000000e+000]\n",
            " [6.24876427e-024 6.60497497e-310]]\n"
          ]
        }
      ]
    },
    {
      "cell_type": "markdown",
      "source": [
        "Task set 1(2)"
      ],
      "metadata": {
        "id": "W7n7WZvA730X"
      }
    },
    {
      "cell_type": "code",
      "source": [
        "import numpy as np\n",
        "one_array = np.ones((4,2))\n",
        "print(\"An array of ones of size 4x2 is: \", one_array)"
      ],
      "metadata": {
        "colab": {
          "base_uri": "https://localhost:8080/"
        },
        "id": "o5oLvupr7_EF",
        "outputId": "bc7059aa-4478-493d-b42d-1b964f14fb7e"
      },
      "execution_count": null,
      "outputs": [
        {
          "output_type": "stream",
          "name": "stdout",
          "text": [
            "An array of ones of size 4x2 is:  [[1. 1.]\n",
            " [1. 1.]\n",
            " [1. 1.]\n",
            " [1. 1.]]\n"
          ]
        }
      ]
    },
    {
      "cell_type": "markdown",
      "source": [
        "Task set 1(3)"
      ],
      "metadata": {
        "id": "DivQxEF88VRG"
      }
    },
    {
      "cell_type": "code",
      "source": [
        "import numpy as np\n",
        "fill_value = np.full((4,2), 10.1, dtype=int)\n",
        "print(\"An array of given shape and type filled with fill_value is: \", fill_value)"
      ],
      "metadata": {
        "colab": {
          "base_uri": "https://localhost:8080/"
        },
        "id": "I9e9s4eV8v-m",
        "outputId": "4bbd468f-be56-4190-cc31-934683a60e52"
      },
      "execution_count": null,
      "outputs": [
        {
          "output_type": "stream",
          "name": "stdout",
          "text": [
            "An array of given shape and type filled with fill_value is:  [[10 10]\n",
            " [10 10]\n",
            " [10 10]\n",
            " [10 10]]\n"
          ]
        }
      ]
    },
    {
      "cell_type": "markdown",
      "source": [
        "Task set 1(4)"
      ],
      "metadata": {
        "id": "gmgRiumb-WMy"
      }
    },
    {
      "cell_type": "code",
      "source": [
        "import numpy as np\n",
        "array = np.arange(0,9).reshape(3,3)\n",
        "print(array)\n",
        "zero_array = np.zeros_like(array, int)\n",
        "print(zero_array)"
      ],
      "metadata": {
        "colab": {
          "base_uri": "https://localhost:8080/"
        },
        "id": "61N-hOPi8ton",
        "outputId": "bd3e0179-7789-4816-9890-da067570babc"
      },
      "execution_count": null,
      "outputs": [
        {
          "output_type": "stream",
          "name": "stdout",
          "text": [
            "[[0 1 2]\n",
            " [3 4 5]\n",
            " [6 7 8]]\n",
            "[[0 0 0]\n",
            " [0 0 0]\n",
            " [0 0 0]]\n"
          ]
        }
      ]
    },
    {
      "cell_type": "markdown",
      "source": [
        "Task set 1(5)"
      ],
      "metadata": {
        "id": "IvNgbzS2_mn1"
      }
    },
    {
      "cell_type": "code",
      "source": [
        "import numpy as np\n",
        "array = np.arange(0,9).reshape(3,3)\n",
        "print(array)\n",
        "one_array = np.ones_like(array, int)\n",
        "print(one_array)"
      ],
      "metadata": {
        "colab": {
          "base_uri": "https://localhost:8080/"
        },
        "id": "2J0Ejn_c8XJo",
        "outputId": "9b643683-1139-4184-802c-7e0b5665b392"
      },
      "execution_count": null,
      "outputs": [
        {
          "output_type": "stream",
          "name": "stdout",
          "text": [
            "[[0 1 2]\n",
            " [3 4 5]\n",
            " [6 7 8]]\n",
            "[[1 1 1]\n",
            " [1 1 1]\n",
            " [1 1 1]]\n"
          ]
        }
      ]
    },
    {
      "cell_type": "markdown",
      "source": [
        "Task set 1(5)"
      ],
      "metadata": {
        "id": "Z11JrryE_09_"
      }
    },
    {
      "cell_type": "code",
      "source": [
        "import numpy as np\n",
        "new_list = [1,2,3,4]\n",
        "print(new_list)\n",
        "arr = np.array(new_list)\n",
        "print(arr)"
      ],
      "metadata": {
        "colab": {
          "base_uri": "https://localhost:8080/"
        },
        "id": "elZL5Bch_2yD",
        "outputId": "2d224b40-76c5-473e-fcb3-d75a9e8476d0"
      },
      "execution_count": null,
      "outputs": [
        {
          "output_type": "stream",
          "name": "stdout",
          "text": [
            "[1, 2, 3, 4]\n",
            "[1 2 3 4]\n"
          ]
        }
      ]
    },
    {
      "cell_type": "markdown",
      "source": [
        "Task set 2"
      ],
      "metadata": {
        "id": "E1gxCFI-Auzu"
      }
    },
    {
      "cell_type": "code",
      "source": [
        "import numpy as np\n",
        "range_arr = np.arange(10)\n",
        "print(\"An array given range is \\n\", range_arr, \"with dimensions\", range_arr.shape,\"\\n\")\n",
        "# return evenly spaced values within a given interval.\n",
        "linspace_arr = np.linspace(2.0, 3.0, num = 5, endpoint = False)\n",
        "# if endpoint = True, stop=3.0 here is included otherwise its not included\n",
        "print(\"An evenly spaced array of given range is \\n\", linspace_arr, \"with dimensions\", linspace_arr.shape, \"\\n\")\n",
        "# return evenly spaced numbers over a specified interval."
      ],
      "metadata": {
        "colab": {
          "base_uri": "https://localhost:8080/"
        },
        "id": "NQdhKYrXAwxS",
        "outputId": "c02a128b-a06c-43c1-c1ed-91a8009fc065"
      },
      "execution_count": null,
      "outputs": [
        {
          "output_type": "stream",
          "name": "stdout",
          "text": [
            "An array given range is \n",
            " [0 1 2 3 4 5 6 7 8 9] with dimensions (10,) \n",
            "\n",
            "An evenly spaced array of given range is \n",
            " [2.  2.2 2.4 2.6 2.8] with dimensions (5,) \n",
            "\n"
          ]
        }
      ]
    },
    {
      "cell_type": "markdown",
      "source": [
        "Task set 2(1)"
      ],
      "metadata": {
        "id": "LCWrAsvgDQG_"
      }
    },
    {
      "cell_type": "code",
      "source": [
        "import numpy as np\n",
        "range_arr = np.arange(10,50)\n",
        "print(range_arr)"
      ],
      "metadata": {
        "colab": {
          "base_uri": "https://localhost:8080/"
        },
        "id": "riAP5Bv3DUfh",
        "outputId": "5723c2a4-f3a5-4a65-82d2-b9e2357b0995"
      },
      "execution_count": null,
      "outputs": [
        {
          "output_type": "stream",
          "name": "stdout",
          "text": [
            "[10 11 12 13 14 15 16 17 18 19 20 21 22 23 24 25 26 27 28 29 30 31 32 33\n",
            " 34 35 36 37 38 39 40 41 42 43 44 45 46 47 48 49]\n"
          ]
        }
      ]
    },
    {
      "cell_type": "markdown",
      "source": [
        "Task set 2(2)"
      ],
      "metadata": {
        "id": "k32ayvfMDrko"
      }
    },
    {
      "cell_type": "code",
      "source": [
        "import numpy as np\n",
        "print(np.arange(0,9).reshape(3,3))"
      ],
      "metadata": {
        "colab": {
          "base_uri": "https://localhost:8080/"
        },
        "id": "6gRVbwxyDth9",
        "outputId": "b20ceffd-c0fa-49e5-ecf6-3fea8e3d1e6f"
      },
      "execution_count": null,
      "outputs": [
        {
          "output_type": "stream",
          "name": "stdout",
          "text": [
            "[[0 1 2]\n",
            " [3 4 5]\n",
            " [6 7 8]]\n"
          ]
        }
      ]
    },
    {
      "cell_type": "markdown",
      "source": [
        "Task set 2(3)"
      ],
      "metadata": {
        "id": "VzfkW-vwD-1c"
      }
    },
    {
      "cell_type": "code",
      "source": [
        "import numpy as np\n",
        "identity_matrix = np.eye(2)\n",
        "print(identity_matrix)"
      ],
      "metadata": {
        "colab": {
          "base_uri": "https://localhost:8080/"
        },
        "id": "yxjQPHAzD9yH",
        "outputId": "ef90f305-3ce4-4a3f-caa9-d6ee00439477"
      },
      "execution_count": null,
      "outputs": [
        {
          "output_type": "stream",
          "name": "stdout",
          "text": [
            "[[1. 0.]\n",
            " [0. 1.]]\n"
          ]
        }
      ]
    },
    {
      "cell_type": "markdown",
      "source": [
        "Task set 2(4)"
      ],
      "metadata": {
        "id": "WixGvaPAFMC0"
      }
    },
    {
      "cell_type": "code",
      "source": [
        "import numpy as np\n",
        "random = np.random.random(30)\n",
        "print(random)\n",
        "mean = np.mean(random)\n",
        "print(mean)"
      ],
      "metadata": {
        "colab": {
          "base_uri": "https://localhost:8080/"
        },
        "id": "McqPpSB-FNh6",
        "outputId": "12443bba-d0d3-4d86-9942-6500397e2f06"
      },
      "execution_count": null,
      "outputs": [
        {
          "output_type": "stream",
          "name": "stdout",
          "text": [
            "[0.00106065 0.52526816 0.40661104 0.72147282 0.8489262  0.25176471\n",
            " 0.34973412 0.84046203 0.96065377 0.72175139 0.63786185 0.57146766\n",
            " 0.17073106 0.78691469 0.95814218 0.08916608 0.30865453 0.37665412\n",
            " 0.28939143 0.4626514  0.9555436  0.950359   0.74171352 0.86416117\n",
            " 0.38371869 0.08088565 0.4143492  0.1661     0.56177537 0.52223259]\n",
            "0.530672622336403\n"
          ]
        }
      ]
    },
    {
      "cell_type": "markdown",
      "source": [
        "Task set 2(5)"
      ],
      "metadata": {
        "id": "5QPV7reIGotJ"
      }
    },
    {
      "cell_type": "code",
      "source": [
        "import numpy as np\n",
        "array = np.random.random(100).reshape(10,10)\n",
        "print(array)\n",
        "print(np.max(array))\n",
        "print(np.min(array))"
      ],
      "metadata": {
        "colab": {
          "base_uri": "https://localhost:8080/"
        },
        "id": "xdLN_bImGq47",
        "outputId": "e26fd163-ce90-46cd-bd5b-d6a0c225f281"
      },
      "execution_count": null,
      "outputs": [
        {
          "output_type": "stream",
          "name": "stdout",
          "text": [
            "[[0.95189284 0.77430763 0.08928617 0.48071827 0.68087337 0.7742632\n",
            "  0.44620149 0.64902394 0.72963879 0.79144551]\n",
            " [0.73948191 0.76729333 0.53790758 0.40347205 0.23146694 0.11722449\n",
            "  0.55643919 0.00232062 0.30575372 0.63915299]\n",
            " [0.2228674  0.39583606 0.70548891 0.69146507 0.49144356 0.56033554\n",
            "  0.53783495 0.75318477 0.93995952 0.72663374]\n",
            " [0.91872869 0.01315982 0.25268967 0.96273023 0.4623543  0.41095631\n",
            "  0.98511027 0.43401168 0.16406136 0.2251578 ]\n",
            " [0.64183276 0.14604579 0.13023158 0.2387089  0.44896698 0.73922592\n",
            "  0.00141461 0.46427734 0.98938554 0.80083018]\n",
            " [0.50508376 0.46549258 0.58827454 0.36395753 0.5710554  0.8083595\n",
            "  0.44357722 0.40423051 0.66761499 0.20301042]\n",
            " [0.46441003 0.10489309 0.17962119 0.11943623 0.40092449 0.32710065\n",
            "  0.98116434 0.80658267 0.50924855 0.96954328]\n",
            " [0.06031229 0.2922952  0.90315708 0.54537951 0.82784859 0.50732181\n",
            "  0.33348557 0.85152733 0.23180995 0.45632298]\n",
            " [0.58271916 0.09506952 0.9728217  0.19313969 0.29959042 0.8276207\n",
            "  0.97672706 0.26327802 0.95074134 0.94219557]\n",
            " [0.43775183 0.89483622 0.31629599 0.26455468 0.03591126 0.07249292\n",
            "  0.66870829 0.6220781  0.41468252 0.54330502]]\n",
            "0.9893855446179853\n",
            "0.0014146078363189707\n"
          ]
        }
      ]
    },
    {
      "cell_type": "markdown",
      "source": [
        "Task set 2(6)"
      ],
      "metadata": {
        "id": "DZpcrizqaS5w"
      }
    },
    {
      "cell_type": "code",
      "source": [
        "import numpy as np\n",
        "array = np.random.random(10)\n",
        "print(array)\n",
        "zero_array = np.zeros_like(array, int)\n",
        "print(zero_array)\n",
        "index = [4]\n",
        "new_value = [1]\n",
        "zero_array[index] = new_value\n",
        "print(zero_array)"
      ],
      "metadata": {
        "colab": {
          "base_uri": "https://localhost:8080/"
        },
        "id": "5kB8oVVcaWEM",
        "outputId": "c7d09557-6811-463c-95af-c28e2b9ad3e5"
      },
      "execution_count": null,
      "outputs": [
        {
          "output_type": "stream",
          "name": "stdout",
          "text": [
            "[0.24735883 0.77106754 0.85662636 0.03638494 0.03145727 0.17693332\n",
            " 0.77017251 0.19217682 0.70561365 0.53357129]\n",
            "[0 0 0 0 0 0 0 0 0 0]\n",
            "[0 0 0 0 1 0 0 0 0 0]\n"
          ]
        }
      ]
    },
    {
      "cell_type": "markdown",
      "source": [
        "Task set 2(7)"
      ],
      "metadata": {
        "id": "oL-dv9Ovbhc4"
      }
    },
    {
      "cell_type": "code",
      "source": [
        "import numpy as np\n",
        "array = [1,2,0,0,4,0]\n",
        "print(np.array(array))\n",
        "print(np.flip(array))"
      ],
      "metadata": {
        "colab": {
          "base_uri": "https://localhost:8080/"
        },
        "id": "CDDBEQwYbi_V",
        "outputId": "09768b2b-71d5-4093-fe62-3c5904a0c918"
      },
      "execution_count": null,
      "outputs": [
        {
          "output_type": "stream",
          "name": "stdout",
          "text": [
            "[1 2 0 0 4 0]\n",
            "[0 4 0 0 2 1]\n"
          ]
        }
      ]
    },
    {
      "cell_type": "markdown",
      "source": [
        "Task set 2(8)"
      ],
      "metadata": {
        "id": "6kthjlUHcqVf"
      }
    },
    {
      "cell_type": "code",
      "source": [
        "import numpy as np\n",
        "array = np.ones((5,5))\n",
        "print(array)\n",
        "array[1:-1,1:-1] = 0\n",
        "print(array)"
      ],
      "metadata": {
        "colab": {
          "base_uri": "https://localhost:8080/"
        },
        "id": "imxuQKWvcsVG",
        "outputId": "7b24d094-8471-477b-dd93-a2ed0e741eed"
      },
      "execution_count": null,
      "outputs": [
        {
          "output_type": "stream",
          "name": "stdout",
          "text": [
            "[[1. 1. 1. 1. 1.]\n",
            " [1. 1. 1. 1. 1.]\n",
            " [1. 1. 1. 1. 1.]\n",
            " [1. 1. 1. 1. 1.]\n",
            " [1. 1. 1. 1. 1.]]\n",
            "[[1. 1. 1. 1. 1.]\n",
            " [1. 0. 0. 0. 1.]\n",
            " [1. 0. 0. 0. 1.]\n",
            " [1. 0. 0. 0. 1.]\n",
            " [1. 1. 1. 1. 1.]]\n"
          ]
        }
      ]
    },
    {
      "cell_type": "markdown",
      "source": [
        "Task set 2(9)"
      ],
      "metadata": {
        "id": "ejbWcRVUeya7"
      }
    },
    {
      "cell_type": "code",
      "source": [
        "import numpy as np\n",
        "array = np.ones((8,8))\n",
        "array[::2, 1::2] = 0\n",
        "array[1::2, ::2] = 0\n",
        "print(array)"
      ],
      "metadata": {
        "colab": {
          "base_uri": "https://localhost:8080/"
        },
        "id": "bowMYEcPe0bL",
        "outputId": "b1f5b365-f262-4253-8384-a93a025b4ea3"
      },
      "execution_count": null,
      "outputs": [
        {
          "output_type": "stream",
          "name": "stdout",
          "text": [
            "[[1. 0. 1. 0. 1. 0. 1. 0.]\n",
            " [0. 1. 0. 1. 0. 1. 0. 1.]\n",
            " [1. 0. 1. 0. 1. 0. 1. 0.]\n",
            " [0. 1. 0. 1. 0. 1. 0. 1.]\n",
            " [1. 0. 1. 0. 1. 0. 1. 0.]\n",
            " [0. 1. 0. 1. 0. 1. 0. 1.]\n",
            " [1. 0. 1. 0. 1. 0. 1. 0.]\n",
            " [0. 1. 0. 1. 0. 1. 0. 1.]]\n"
          ]
        }
      ]
    },
    {
      "cell_type": "markdown",
      "source": [
        "Task set 3.3.1(1)"
      ],
      "metadata": {
        "id": "R2gFNq2Ppn1H"
      }
    },
    {
      "cell_type": "code",
      "source": [
        "import numpy as np\n",
        "x = np.array([[1,2],[3,5]])\n",
        "y = np.array([[5,6],[7,8]])\n",
        "print(x)\n",
        "print(y)\n",
        "print(np.add(x,y))\n",
        "\n",
        "v = np.array([9,10])\n",
        "w = np.array([11,12])\n",
        "print(v)\n",
        "print(w)\n",
        "print(np.add(v,w))\n"
      ],
      "metadata": {
        "colab": {
          "base_uri": "https://localhost:8080/"
        },
        "id": "pqjXj5kIpuNu",
        "outputId": "eebf0dec-1095-4107-a0c1-f95f676439d5"
      },
      "execution_count": null,
      "outputs": [
        {
          "output_type": "stream",
          "name": "stdout",
          "text": [
            "[[1 2]\n",
            " [3 5]]\n",
            "[[5 6]\n",
            " [7 8]]\n",
            "[[ 6  8]\n",
            " [10 13]]\n",
            "[ 9 10]\n",
            "[11 12]\n",
            "[20 22]\n"
          ]
        }
      ]
    },
    {
      "cell_type": "markdown",
      "source": [
        "Task set 3.3.1(2)"
      ],
      "metadata": {
        "id": "q8g0JdjcqjtG"
      }
    },
    {
      "cell_type": "code",
      "source": [
        "import numpy as np\n",
        "x = np.array([[1,2],[3,5]])\n",
        "y = np.array([[5,6],[7,8]])\n",
        "print(x)\n",
        "print(y)\n",
        "print(np.subtract(x,y))\n",
        "\n",
        "v = np.array([9,10])\n",
        "w = np.array([11,12])\n",
        "print(v)\n",
        "print(w)\n",
        "print(np.subtract(v,w))"
      ],
      "metadata": {
        "colab": {
          "base_uri": "https://localhost:8080/"
        },
        "id": "Iz3682rrqmdL",
        "outputId": "ae7e8f15-d959-4730-86ea-b7a946c8ed66"
      },
      "execution_count": null,
      "outputs": [
        {
          "output_type": "stream",
          "name": "stdout",
          "text": [
            "[[1 2]\n",
            " [3 5]]\n",
            "[[5 6]\n",
            " [7 8]]\n",
            "[[-4 -4]\n",
            " [-4 -3]]\n",
            "[ 9 10]\n",
            "[11 12]\n",
            "[-2 -2]\n"
          ]
        }
      ]
    },
    {
      "cell_type": "markdown",
      "source": [
        "Task set 3.3.1(3)"
      ],
      "metadata": {
        "id": "W_OFWbs6qxzT"
      }
    },
    {
      "cell_type": "code",
      "source": [
        "import numpy as np\n",
        "x = np.array([[1,2],[3,5]])\n",
        "y = np.array([[5,6],[7,8]])\n",
        "print(x)\n",
        "print(np.array(x) * 2)\n",
        "print(y)\n",
        "print(np.array(y) * 2)\n",
        "\n",
        "v = np.array([9,10])\n",
        "w = np.array([11,12])\n",
        "print(v)\n",
        "print(np.array(v) * 2)\n",
        "print(w)\n",
        "print(np.array(w) * 2)"
      ],
      "metadata": {
        "colab": {
          "base_uri": "https://localhost:8080/"
        },
        "id": "oot26KrOq5ln",
        "outputId": "baa42247-88ea-459f-e511-10ddf51d961b"
      },
      "execution_count": null,
      "outputs": [
        {
          "output_type": "stream",
          "name": "stdout",
          "text": [
            "[[1 2]\n",
            " [3 5]]\n",
            "[[ 2  4]\n",
            " [ 6 10]]\n",
            "[[5 6]\n",
            " [7 8]]\n",
            "[[10 12]\n",
            " [14 16]]\n",
            "[ 9 10]\n",
            "[18 20]\n",
            "[11 12]\n",
            "[22 24]\n"
          ]
        }
      ]
    },
    {
      "cell_type": "markdown",
      "source": [
        "Task set 3.3.1(4)"
      ],
      "metadata": {
        "id": "ozYIhx2ptB7r"
      }
    },
    {
      "cell_type": "code",
      "source": [
        "import numpy as np\n",
        "x = np.array([[1,2],[3,5]])\n",
        "y = np.array([[5,6],[7,8]])\n",
        "v = np.array([9,10])\n",
        "w = np.array([11,12])\n",
        "print(x)\n",
        "print(np.square(x))\n",
        "print(y)\n",
        "print(np.square(y))\n",
        "print(v)\n",
        "print(np.square(v))\n",
        "print(w)\n",
        "print(np.square(w))"
      ],
      "metadata": {
        "colab": {
          "base_uri": "https://localhost:8080/"
        },
        "id": "Ax3_7qHStE_E",
        "outputId": "6a605274-35a2-41fd-c558-fe094635a5b4"
      },
      "execution_count": null,
      "outputs": [
        {
          "output_type": "stream",
          "name": "stdout",
          "text": [
            "[[1 2]\n",
            " [3 5]]\n",
            "[[ 1  4]\n",
            " [ 9 25]]\n",
            "[[5 6]\n",
            " [7 8]]\n",
            "[[25 36]\n",
            " [49 64]]\n",
            "[ 9 10]\n",
            "[ 81 100]\n",
            "[11 12]\n",
            "[121 144]\n"
          ]
        }
      ]
    },
    {
      "cell_type": "markdown",
      "source": [
        "Task set 3.3.1(5)"
      ],
      "metadata": {
        "id": "6gqHlOj3uK8t"
      }
    },
    {
      "cell_type": "code",
      "source": [
        "import numpy as np\n",
        "x = np.array([[1,2],[3,5]])\n",
        "y = np.array([[5,6],[7,8]])\n",
        "v = np.array([9,10])\n",
        "w = np.array([11,12])\n",
        "print(np.dot(v,w))\n",
        "print(np.dot(x,v))\n",
        "print(np.dot(x,y))"
      ],
      "metadata": {
        "colab": {
          "base_uri": "https://localhost:8080/"
        },
        "id": "Bm7sCo3IuN60",
        "outputId": "764ec758-fabb-4594-fb50-a5255b1002e6"
      },
      "execution_count": null,
      "outputs": [
        {
          "output_type": "stream",
          "name": "stdout",
          "text": [
            "219\n",
            "[29 77]\n",
            "[[19 22]\n",
            " [50 58]]\n"
          ]
        }
      ]
    },
    {
      "cell_type": "markdown",
      "source": [
        "Task set 3.3.1(6)"
      ],
      "metadata": {
        "id": "J1FFP6zJuoXW"
      }
    },
    {
      "cell_type": "code",
      "source": [
        "import numpy as np\n",
        "x = np.array([[1,2],[3,5]])\n",
        "y = np.array([[5,6],[7,8]])\n",
        "v = np.array([9,10])\n",
        "w = np.array([11,12])\n",
        "print(x)\n",
        "print(y)\n",
        "print(np.concatenate((x,y), axis=0))\n",
        "print(np.concatenate((x,y), axis=1))\n",
        "\n",
        "v = v.reshape(-1,1)\n",
        "w = w.reshape(-1,1)\n",
        "print(v)\n",
        "print(w)\n",
        "print(np.concatenate((v,w), axis=0))\n",
        "print(np.concatenate((v,w), axis=1))"
      ],
      "metadata": {
        "colab": {
          "base_uri": "https://localhost:8080/"
        },
        "id": "6I38Dedouq66",
        "outputId": "fb457c8a-d270-4c06-faae-5c81a6b4f2b1"
      },
      "execution_count": null,
      "outputs": [
        {
          "output_type": "stream",
          "name": "stdout",
          "text": [
            "[[1 2]\n",
            " [3 5]]\n",
            "[[5 6]\n",
            " [7 8]]\n",
            "[[1 2]\n",
            " [3 5]\n",
            " [5 6]\n",
            " [7 8]]\n",
            "[[1 2 5 6]\n",
            " [3 5 7 8]]\n",
            "[[ 9]\n",
            " [10]]\n",
            "[[11]\n",
            " [12]]\n",
            "[[ 9]\n",
            " [10]\n",
            " [11]\n",
            " [12]]\n",
            "[[ 9 11]\n",
            " [10 12]]\n"
          ]
        }
      ]
    },
    {
      "cell_type": "markdown",
      "source": [
        "Task set 3.3.1(7)"
      ],
      "metadata": {
        "id": "laPJOQ4C6pH_"
      }
    },
    {
      "cell_type": "code",
      "source": [
        "import numpy as np\n",
        "x = np.array([[1,2],[3,5]])\n",
        "v = np.array([9,10])\n",
        "print(np.concatenate(x,v), axis=0)"
      ],
      "metadata": {
        "colab": {
          "base_uri": "https://localhost:8080/",
          "height": 176
        },
        "id": "c5B_RSoj6yih",
        "outputId": "59b94da0-311c-406b-af57-50bd4c564f9f"
      },
      "execution_count": null,
      "outputs": [
        {
          "output_type": "error",
          "ename": "TypeError",
          "evalue": "only integer scalar arrays can be converted to a scalar index",
          "traceback": [
            "\u001b[0;31m---------------------------------------------------------------------------\u001b[0m",
            "\u001b[0;31mTypeError\u001b[0m                                 Traceback (most recent call last)",
            "\u001b[0;32m<ipython-input-69-c3daf904a127>\u001b[0m in \u001b[0;36m<cell line: 4>\u001b[0;34m()\u001b[0m\n\u001b[1;32m      2\u001b[0m \u001b[0mx\u001b[0m \u001b[0;34m=\u001b[0m \u001b[0mnp\u001b[0m\u001b[0;34m.\u001b[0m\u001b[0marray\u001b[0m\u001b[0;34m(\u001b[0m\u001b[0;34m[\u001b[0m\u001b[0;34m[\u001b[0m\u001b[0;36m1\u001b[0m\u001b[0;34m,\u001b[0m\u001b[0;36m2\u001b[0m\u001b[0;34m]\u001b[0m\u001b[0;34m,\u001b[0m\u001b[0;34m[\u001b[0m\u001b[0;36m3\u001b[0m\u001b[0;34m,\u001b[0m\u001b[0;36m5\u001b[0m\u001b[0;34m]\u001b[0m\u001b[0;34m]\u001b[0m\u001b[0;34m)\u001b[0m\u001b[0;34m\u001b[0m\u001b[0;34m\u001b[0m\u001b[0m\n\u001b[1;32m      3\u001b[0m \u001b[0mv\u001b[0m \u001b[0;34m=\u001b[0m \u001b[0mnp\u001b[0m\u001b[0;34m.\u001b[0m\u001b[0marray\u001b[0m\u001b[0;34m(\u001b[0m\u001b[0;34m[\u001b[0m\u001b[0;36m9\u001b[0m\u001b[0;34m,\u001b[0m\u001b[0;36m10\u001b[0m\u001b[0;34m]\u001b[0m\u001b[0;34m)\u001b[0m\u001b[0;34m\u001b[0m\u001b[0;34m\u001b[0m\u001b[0m\n\u001b[0;32m----> 4\u001b[0;31m \u001b[0mprint\u001b[0m\u001b[0;34m(\u001b[0m\u001b[0mnp\u001b[0m\u001b[0;34m.\u001b[0m\u001b[0mconcatenate\u001b[0m\u001b[0;34m(\u001b[0m\u001b[0mx\u001b[0m\u001b[0;34m,\u001b[0m\u001b[0mv\u001b[0m\u001b[0;34m)\u001b[0m\u001b[0;34m,\u001b[0m \u001b[0maxis\u001b[0m\u001b[0;34m=\u001b[0m\u001b[0;36m0\u001b[0m\u001b[0;34m)\u001b[0m\u001b[0;34m\u001b[0m\u001b[0;34m\u001b[0m\u001b[0m\n\u001b[0m",
            "\u001b[0;31mTypeError\u001b[0m: only integer scalar arrays can be converted to a scalar index"
          ]
        }
      ]
    },
    {
      "cell_type": "markdown",
      "source": [
        "We get the error because in order for two arrays to be concatenated, the rows of the arrays need to be same."
      ],
      "metadata": {
        "id": "tgOI8Pnb6-T1"
      }
    },
    {
      "cell_type": "markdown",
      "source": [
        "Task set 3.3.2A(1)"
      ],
      "metadata": {
        "id": "HUt_-lmiyy0H"
      }
    },
    {
      "cell_type": "code",
      "source": [
        "import numpy as np\n",
        "A = np.array([[3,4],[7,8]])\n",
        "AT = np.transpose(A)\n",
        "I = np.identity(2)\n",
        "print(I)\n",
        "print(AT)\n",
        "AAT = np.dot(A,AT)\n",
        "print(AAT)\n",
        "if np.array_equal(AAT, I):\n",
        "  print(\"Proved.\")\n",
        "else:\n",
        "  print(\"Could not be proved.\")"
      ],
      "metadata": {
        "colab": {
          "base_uri": "https://localhost:8080/"
        },
        "id": "grRA6EYQy04O",
        "outputId": "ccb53b3a-641a-4948-cd67-c117c1e582a5"
      },
      "execution_count": null,
      "outputs": [
        {
          "output_type": "stream",
          "name": "stdout",
          "text": [
            "[[1. 0.]\n",
            " [0. 1.]]\n",
            "[[3 7]\n",
            " [4 8]]\n",
            "[[ 25  53]\n",
            " [ 53 113]]\n",
            "Could not be proved.\n"
          ]
        }
      ]
    },
    {
      "cell_type": "markdown",
      "source": [
        "Task set 3.3.2A(2)"
      ],
      "metadata": {
        "id": "6ed3XduA0kzL"
      }
    },
    {
      "cell_type": "code",
      "source": [
        "import numpy as np\n",
        "A = np.array([[3,4],[7,8]])\n",
        "B = np.array([[5,3],[2,1]])\n",
        "AB = np.dot(A,B)\n",
        "print(AB)\n",
        "BA = np.dot(B,A)\n",
        "print(BA)\n",
        "if np.array_equal(AB, BA):\n",
        "  print(\"Could not be proved.\")\n",
        "else:\n",
        "  print(\"Proved.\")\n"
      ],
      "metadata": {
        "colab": {
          "base_uri": "https://localhost:8080/"
        },
        "id": "mlJgOvmv0m1Z",
        "outputId": "eef3d52e-5cef-4de6-ead5-5833e156db9a"
      },
      "execution_count": null,
      "outputs": [
        {
          "output_type": "stream",
          "name": "stdout",
          "text": [
            "[[23 13]\n",
            " [51 29]]\n",
            "[[36 44]\n",
            " [13 16]]\n",
            "Proved.\n"
          ]
        }
      ]
    },
    {
      "cell_type": "markdown",
      "source": [
        "Task set 3.3.2A(3)"
      ],
      "metadata": {
        "id": "BGzEm_Tj2BWx"
      }
    },
    {
      "cell_type": "code",
      "source": [
        "import numpy as np\n",
        "A = np.array([[3,4],[7,8]])\n",
        "B = np.array([[5,3],[2,1]])\n",
        "AB = np.dot(A, B)\n",
        "ABT = np.transpose(AB)\n",
        "print(ABT)\n",
        "BT = np.transpose(B)\n",
        "AT = np.transpose(A)\n",
        "BTAT = np.dot(BT, AT)\n",
        "print(BTAT)\n",
        "\n",
        "if np.array_equal(ABT, BTAT):\n",
        "  print(\"Proved.\")\n",
        "else:\n",
        "  print(\"Could not be proved.\")"
      ],
      "metadata": {
        "colab": {
          "base_uri": "https://localhost:8080/"
        },
        "id": "pg6JGLNs2Duj",
        "outputId": "e348fd61-1d83-4366-9537-4f092c94cad8"
      },
      "execution_count": null,
      "outputs": [
        {
          "output_type": "stream",
          "name": "stdout",
          "text": [
            "[[23 51]\n",
            " [13 29]]\n",
            "[[23 51]\n",
            " [13 29]]\n",
            "Proved.\n"
          ]
        }
      ]
    },
    {
      "cell_type": "markdown",
      "source": [
        "Task set 3.3.2B"
      ],
      "metadata": {
        "id": "NkmKsKDv3CY_"
      }
    },
    {
      "cell_type": "code",
      "source": [
        "import numpy as np\n",
        "A = np.array([[2,-3,1],[1,-1,2],[3,1,-1]])\n",
        "B = np.array([-1,-3,9])\n",
        "Ainverse = np.linalg.inv(A)\n",
        "X = np.dot(Ainverse, B)\n",
        "print(X)"
      ],
      "metadata": {
        "colab": {
          "base_uri": "https://localhost:8080/"
        },
        "id": "K1V0nNNt3ElH",
        "outputId": "0e7eefb1-e285-46a4-9a3d-5d027b34d7e3"
      },
      "execution_count": null,
      "outputs": [
        {
          "output_type": "stream",
          "name": "stdout",
          "text": [
            "[ 2.  1. -2.]\n"
          ]
        }
      ]
    },
    {
      "cell_type": "markdown",
      "source": [
        "Pandas"
      ],
      "metadata": {
        "id": "_VXUpEP47XJk"
      }
    },
    {
      "cell_type": "code",
      "source": [
        "import pandas as pd\n",
        "print(pd.DataFrame({'Bob':['I liked it.','It was awful.'], 'Sue':['Pretty good.','Bland.']}))\n",
        "print(pd.DataFrame({'Bob':['I liked it.','It was awful.'], 'Sue':['Pretty good.','Bland.']}, index = ['Product A', 'Product B']))"
      ],
      "metadata": {
        "colab": {
          "base_uri": "https://localhost:8080/"
        },
        "id": "Uf6qs9rc7bYz",
        "outputId": "e5e3e808-5a59-46a9-dafe-5ea294d9d919"
      },
      "execution_count": null,
      "outputs": [
        {
          "output_type": "stream",
          "name": "stdout",
          "text": [
            "             Bob           Sue\n",
            "0    I liked it.  Pretty good.\n",
            "1  It was awful.        Bland.\n",
            "                     Bob           Sue\n",
            "Product A    I liked it.  Pretty good.\n",
            "Product B  It was awful.        Bland.\n"
          ]
        }
      ]
    },
    {
      "cell_type": "markdown",
      "source": [
        "Exercise 1"
      ],
      "metadata": {
        "id": "8faVDF2ggNjF"
      }
    },
    {
      "cell_type": "code",
      "source": [
        "from google.colab import files\n",
        "import pandas as pd\n",
        "import io\n",
        "\n",
        "uploaded = files.upload()\n",
        "file_name = next(iter(uploaded))\n",
        "df = pd.read_csv(io.BytesIO(uploaded[file_name]))\n",
        "df.info()\n",
        "\n",
        "# identify columns with dtype=object\n",
        "object_columns = df.select_dtypes(include=['object']).columns\n",
        "print(\"\\nColumns with dtype=object\")\n",
        "print(object_columns)\n",
        "\n",
        "# display unique values and null counts for each object column\n",
        "for col in object_columns:\n",
        "  unique_values = df[col].unique()\n",
        "  null_count = df[col].isnull().sum()\n",
        "\n",
        "  print(f\"\\nColumn: {col}\")\n",
        "  print(f\"Unique Values: {unique_values}\")\n",
        "  print(f\"Total Null Values: {null_count}\")\n",
        "\n",
        "# dropping columns with dtype=object\n",
        "numeric_df = df.drop(columns=object_columns)\n",
        "\n",
        "# saving in new csv file\n",
        "numeric_file_path = \"banknumericdata.csv\"\n",
        "numeric_df.to_csv(numeric_file_path)\n",
        "\n",
        "# read banknumericdata.csv\n",
        "numeric_data = pd.read_csv(numeric_file_path)\n",
        "summary_stats = numeric_data.describe()\n",
        "print(\"Summary statistics: \")\n",
        "print(summary_stats)\n",
        "\n"
      ],
      "metadata": {
        "colab": {
          "base_uri": "https://localhost:8080/",
          "height": 1000
        },
        "id": "nSUMdl7R98wt",
        "outputId": "4482800c-971a-4887-c2d9-0084deeb029c"
      },
      "execution_count": null,
      "outputs": [
        {
          "output_type": "display_data",
          "data": {
            "text/plain": [
              "<IPython.core.display.HTML object>"
            ],
            "text/html": [
              "\n",
              "     <input type=\"file\" id=\"files-c3caa14d-9c99-435e-a3de-35928cb395f0\" name=\"files[]\" multiple disabled\n",
              "        style=\"border:none\" />\n",
              "     <output id=\"result-c3caa14d-9c99-435e-a3de-35928cb395f0\">\n",
              "      Upload widget is only available when the cell has been executed in the\n",
              "      current browser session. Please rerun this cell to enable.\n",
              "      </output>\n",
              "      <script>// Copyright 2017 Google LLC\n",
              "//\n",
              "// Licensed under the Apache License, Version 2.0 (the \"License\");\n",
              "// you may not use this file except in compliance with the License.\n",
              "// You may obtain a copy of the License at\n",
              "//\n",
              "//      http://www.apache.org/licenses/LICENSE-2.0\n",
              "//\n",
              "// Unless required by applicable law or agreed to in writing, software\n",
              "// distributed under the License is distributed on an \"AS IS\" BASIS,\n",
              "// WITHOUT WARRANTIES OR CONDITIONS OF ANY KIND, either express or implied.\n",
              "// See the License for the specific language governing permissions and\n",
              "// limitations under the License.\n",
              "\n",
              "/**\n",
              " * @fileoverview Helpers for google.colab Python module.\n",
              " */\n",
              "(function(scope) {\n",
              "function span(text, styleAttributes = {}) {\n",
              "  const element = document.createElement('span');\n",
              "  element.textContent = text;\n",
              "  for (const key of Object.keys(styleAttributes)) {\n",
              "    element.style[key] = styleAttributes[key];\n",
              "  }\n",
              "  return element;\n",
              "}\n",
              "\n",
              "// Max number of bytes which will be uploaded at a time.\n",
              "const MAX_PAYLOAD_SIZE = 100 * 1024;\n",
              "\n",
              "function _uploadFiles(inputId, outputId) {\n",
              "  const steps = uploadFilesStep(inputId, outputId);\n",
              "  const outputElement = document.getElementById(outputId);\n",
              "  // Cache steps on the outputElement to make it available for the next call\n",
              "  // to uploadFilesContinue from Python.\n",
              "  outputElement.steps = steps;\n",
              "\n",
              "  return _uploadFilesContinue(outputId);\n",
              "}\n",
              "\n",
              "// This is roughly an async generator (not supported in the browser yet),\n",
              "// where there are multiple asynchronous steps and the Python side is going\n",
              "// to poll for completion of each step.\n",
              "// This uses a Promise to block the python side on completion of each step,\n",
              "// then passes the result of the previous step as the input to the next step.\n",
              "function _uploadFilesContinue(outputId) {\n",
              "  const outputElement = document.getElementById(outputId);\n",
              "  const steps = outputElement.steps;\n",
              "\n",
              "  const next = steps.next(outputElement.lastPromiseValue);\n",
              "  return Promise.resolve(next.value.promise).then((value) => {\n",
              "    // Cache the last promise value to make it available to the next\n",
              "    // step of the generator.\n",
              "    outputElement.lastPromiseValue = value;\n",
              "    return next.value.response;\n",
              "  });\n",
              "}\n",
              "\n",
              "/**\n",
              " * Generator function which is called between each async step of the upload\n",
              " * process.\n",
              " * @param {string} inputId Element ID of the input file picker element.\n",
              " * @param {string} outputId Element ID of the output display.\n",
              " * @return {!Iterable<!Object>} Iterable of next steps.\n",
              " */\n",
              "function* uploadFilesStep(inputId, outputId) {\n",
              "  const inputElement = document.getElementById(inputId);\n",
              "  inputElement.disabled = false;\n",
              "\n",
              "  const outputElement = document.getElementById(outputId);\n",
              "  outputElement.innerHTML = '';\n",
              "\n",
              "  const pickedPromise = new Promise((resolve) => {\n",
              "    inputElement.addEventListener('change', (e) => {\n",
              "      resolve(e.target.files);\n",
              "    });\n",
              "  });\n",
              "\n",
              "  const cancel = document.createElement('button');\n",
              "  inputElement.parentElement.appendChild(cancel);\n",
              "  cancel.textContent = 'Cancel upload';\n",
              "  const cancelPromise = new Promise((resolve) => {\n",
              "    cancel.onclick = () => {\n",
              "      resolve(null);\n",
              "    };\n",
              "  });\n",
              "\n",
              "  // Wait for the user to pick the files.\n",
              "  const files = yield {\n",
              "    promise: Promise.race([pickedPromise, cancelPromise]),\n",
              "    response: {\n",
              "      action: 'starting',\n",
              "    }\n",
              "  };\n",
              "\n",
              "  cancel.remove();\n",
              "\n",
              "  // Disable the input element since further picks are not allowed.\n",
              "  inputElement.disabled = true;\n",
              "\n",
              "  if (!files) {\n",
              "    return {\n",
              "      response: {\n",
              "        action: 'complete',\n",
              "      }\n",
              "    };\n",
              "  }\n",
              "\n",
              "  for (const file of files) {\n",
              "    const li = document.createElement('li');\n",
              "    li.append(span(file.name, {fontWeight: 'bold'}));\n",
              "    li.append(span(\n",
              "        `(${file.type || 'n/a'}) - ${file.size} bytes, ` +\n",
              "        `last modified: ${\n",
              "            file.lastModifiedDate ? file.lastModifiedDate.toLocaleDateString() :\n",
              "                                    'n/a'} - `));\n",
              "    const percent = span('0% done');\n",
              "    li.appendChild(percent);\n",
              "\n",
              "    outputElement.appendChild(li);\n",
              "\n",
              "    const fileDataPromise = new Promise((resolve) => {\n",
              "      const reader = new FileReader();\n",
              "      reader.onload = (e) => {\n",
              "        resolve(e.target.result);\n",
              "      };\n",
              "      reader.readAsArrayBuffer(file);\n",
              "    });\n",
              "    // Wait for the data to be ready.\n",
              "    let fileData = yield {\n",
              "      promise: fileDataPromise,\n",
              "      response: {\n",
              "        action: 'continue',\n",
              "      }\n",
              "    };\n",
              "\n",
              "    // Use a chunked sending to avoid message size limits. See b/62115660.\n",
              "    let position = 0;\n",
              "    do {\n",
              "      const length = Math.min(fileData.byteLength - position, MAX_PAYLOAD_SIZE);\n",
              "      const chunk = new Uint8Array(fileData, position, length);\n",
              "      position += length;\n",
              "\n",
              "      const base64 = btoa(String.fromCharCode.apply(null, chunk));\n",
              "      yield {\n",
              "        response: {\n",
              "          action: 'append',\n",
              "          file: file.name,\n",
              "          data: base64,\n",
              "        },\n",
              "      };\n",
              "\n",
              "      let percentDone = fileData.byteLength === 0 ?\n",
              "          100 :\n",
              "          Math.round((position / fileData.byteLength) * 100);\n",
              "      percent.textContent = `${percentDone}% done`;\n",
              "\n",
              "    } while (position < fileData.byteLength);\n",
              "  }\n",
              "\n",
              "  // All done.\n",
              "  yield {\n",
              "    response: {\n",
              "      action: 'complete',\n",
              "    }\n",
              "  };\n",
              "}\n",
              "\n",
              "scope.google = scope.google || {};\n",
              "scope.google.colab = scope.google.colab || {};\n",
              "scope.google.colab._files = {\n",
              "  _uploadFiles,\n",
              "  _uploadFilesContinue,\n",
              "};\n",
              "})(self);\n",
              "</script> "
            ]
          },
          "metadata": {}
        },
        {
          "output_type": "stream",
          "name": "stdout",
          "text": [
            "Saving bank.csv to bank (7).csv\n",
            "<class 'pandas.core.frame.DataFrame'>\n",
            "RangeIndex: 45211 entries, 0 to 45210\n",
            "Data columns (total 17 columns):\n",
            " #   Column     Non-Null Count  Dtype \n",
            "---  ------     --------------  ----- \n",
            " 0   age        45211 non-null  int64 \n",
            " 1   job        45211 non-null  object\n",
            " 2   marital    45211 non-null  object\n",
            " 3   education  45211 non-null  object\n",
            " 4   default    45211 non-null  object\n",
            " 5   balance    45211 non-null  int64 \n",
            " 6   housing    45211 non-null  object\n",
            " 7   loan       45211 non-null  object\n",
            " 8   contact    45211 non-null  object\n",
            " 9   day        45211 non-null  int64 \n",
            " 10  month      45211 non-null  object\n",
            " 11  duration   45211 non-null  int64 \n",
            " 12  campaign   45211 non-null  int64 \n",
            " 13  pdays      45211 non-null  int64 \n",
            " 14  previous   45211 non-null  int64 \n",
            " 15  poutcome   45211 non-null  object\n",
            " 16  y          45211 non-null  object\n",
            "dtypes: int64(7), object(10)\n",
            "memory usage: 5.9+ MB\n",
            "\n",
            "Columns with dtype=object\n",
            "Index(['job', 'marital', 'education', 'default', 'housing', 'loan', 'contact',\n",
            "       'month', 'poutcome', 'y'],\n",
            "      dtype='object')\n",
            "\n",
            "Column: job\n",
            "Unique Values: ['management' 'technician' 'entrepreneur' 'blue-collar' 'unknown'\n",
            " 'retired' 'admin.' 'services' 'self-employed' 'unemployed' 'housemaid'\n",
            " 'student']\n",
            "Total Null Values: 0\n",
            "\n",
            "Column: marital\n",
            "Unique Values: ['married' 'single' 'divorced']\n",
            "Total Null Values: 0\n",
            "\n",
            "Column: education\n",
            "Unique Values: ['tertiary' 'secondary' 'unknown' 'primary']\n",
            "Total Null Values: 0\n",
            "\n",
            "Column: default\n",
            "Unique Values: ['no' 'yes']\n",
            "Total Null Values: 0\n",
            "\n",
            "Column: housing\n",
            "Unique Values: ['yes' 'no']\n",
            "Total Null Values: 0\n",
            "\n",
            "Column: loan\n",
            "Unique Values: ['no' 'yes']\n",
            "Total Null Values: 0\n",
            "\n",
            "Column: contact\n",
            "Unique Values: ['unknown' 'cellular' 'telephone']\n",
            "Total Null Values: 0\n",
            "\n",
            "Column: month\n",
            "Unique Values: ['may' 'jun' 'jul' 'aug' 'oct' 'nov' 'dec' 'jan' 'feb' 'mar' 'apr' 'sep']\n",
            "Total Null Values: 0\n",
            "\n",
            "Column: poutcome\n",
            "Unique Values: ['unknown' 'failure' 'other' 'success']\n",
            "Total Null Values: 0\n",
            "\n",
            "Column: y\n",
            "Unique Values: ['no' 'yes']\n",
            "Total Null Values: 0\n",
            "Summary statistics: \n",
            "         Unnamed: 0           age        balance           day      duration  \\\n",
            "count  45211.000000  45211.000000   45211.000000  45211.000000  45211.000000   \n",
            "mean   22605.000000     40.936210    1362.272058     15.806419    258.163080   \n",
            "std    13051.435847     10.618762    3044.765829      8.322476    257.527812   \n",
            "min        0.000000     18.000000   -8019.000000      1.000000      0.000000   \n",
            "25%    11302.500000     33.000000      72.000000      8.000000    103.000000   \n",
            "50%    22605.000000     39.000000     448.000000     16.000000    180.000000   \n",
            "75%    33907.500000     48.000000    1428.000000     21.000000    319.000000   \n",
            "max    45210.000000     95.000000  102127.000000     31.000000   4918.000000   \n",
            "\n",
            "           campaign         pdays      previous  \n",
            "count  45211.000000  45211.000000  45211.000000  \n",
            "mean       2.763841     40.197828      0.580323  \n",
            "std        3.098021    100.128746      2.303441  \n",
            "min        1.000000     -1.000000      0.000000  \n",
            "25%        1.000000     -1.000000      0.000000  \n",
            "50%        2.000000     -1.000000      0.000000  \n",
            "75%        3.000000     -1.000000      0.000000  \n",
            "max       63.000000    871.000000    275.000000  \n"
          ]
        }
      ]
    },
    {
      "cell_type": "markdown",
      "source": [
        "Exercise 2"
      ],
      "metadata": {
        "id": "fwjEuEeTgLji"
      }
    },
    {
      "cell_type": "code",
      "source": [
        "from google.colab import files\n",
        "import pandas as pd\n",
        "import io\n",
        "\n",
        "uploaded = files.upload()\n",
        "file_name = next(iter(uploaded))\n",
        "df = pd.read_csv(io.BytesIO(uploaded[file_name]))\n",
        "df.info()\n",
        "\n",
        "# identifying columns with null values\n",
        "columns_with_null_values = df.columns[df.isnull().any()]\n",
        "print(\"Columns with null values: \")\n",
        "print(columns_with_null_values)\n",
        "\n",
        "# filling missing values\n",
        "df['Age'].fillna(df['Age'].mean(), inplace=True)\n",
        "df['Height'].fillna(df['Height'].mean(), inplace=True)\n",
        "df['Weight'].fillna(df['Weight'].mean(), inplace=True)\n",
        "df['BMI'].fillna(df['BMI'].mean(), inplace=True)\n",
        "df['Gender'].fillna(method='ffill', inplace=True)\n",
        "df['Blood type'].fillna(method='ffill', inplace=True)\n",
        "df['Temperature'].fillna(df['Temperature'].mean(), inplace=True)\n",
        "df['Heart Rate'].fillna(df['Heart Rate'].mean(), inplace=True)\n",
        "df['Blood Pressure'].fillna(df['Blood Pressure'].mean(), inplace=True)\n",
        "df['Cholesterol'].fillna(df['Cholesterol'].mean(), inplace=True)\n",
        "df['Diabetes'].fillna(method='ffill', inplace=True)\n",
        "df['Smoking'].fillna(method='ffill', inplace=True)\n",
        "\n",
        "print(\"\\nMissing values: \")\n",
        "print(df.isnull().sum())\n",
        "\n",
        "num_duplicates = df.duplicated().sum()\n",
        "if num_duplicates > 0:\n",
        "  df.drop_duplicates(inplace = True)\n",
        "  print(f\"\\nDropped {num_duplicates} duplicate rows.\")\n",
        "\n",
        "num_remaining_duplicates = df.duplicated().sum()\n",
        "print(f\"\\nRemaining duplicates after cleaning: {num_remaining_duplicates}\")"
      ],
      "metadata": {
        "colab": {
          "base_uri": "https://localhost:8080/",
          "height": 854
        },
        "id": "z7N0nQ76sVou",
        "outputId": "fc07791e-939c-465a-dbdd-26763a05a891"
      },
      "execution_count": null,
      "outputs": [
        {
          "output_type": "display_data",
          "data": {
            "text/plain": [
              "<IPython.core.display.HTML object>"
            ],
            "text/html": [
              "\n",
              "     <input type=\"file\" id=\"files-4b1e4d64-aef2-4c03-a137-7b5b58ee9d9c\" name=\"files[]\" multiple disabled\n",
              "        style=\"border:none\" />\n",
              "     <output id=\"result-4b1e4d64-aef2-4c03-a137-7b5b58ee9d9c\">\n",
              "      Upload widget is only available when the cell has been executed in the\n",
              "      current browser session. Please rerun this cell to enable.\n",
              "      </output>\n",
              "      <script>// Copyright 2017 Google LLC\n",
              "//\n",
              "// Licensed under the Apache License, Version 2.0 (the \"License\");\n",
              "// you may not use this file except in compliance with the License.\n",
              "// You may obtain a copy of the License at\n",
              "//\n",
              "//      http://www.apache.org/licenses/LICENSE-2.0\n",
              "//\n",
              "// Unless required by applicable law or agreed to in writing, software\n",
              "// distributed under the License is distributed on an \"AS IS\" BASIS,\n",
              "// WITHOUT WARRANTIES OR CONDITIONS OF ANY KIND, either express or implied.\n",
              "// See the License for the specific language governing permissions and\n",
              "// limitations under the License.\n",
              "\n",
              "/**\n",
              " * @fileoverview Helpers for google.colab Python module.\n",
              " */\n",
              "(function(scope) {\n",
              "function span(text, styleAttributes = {}) {\n",
              "  const element = document.createElement('span');\n",
              "  element.textContent = text;\n",
              "  for (const key of Object.keys(styleAttributes)) {\n",
              "    element.style[key] = styleAttributes[key];\n",
              "  }\n",
              "  return element;\n",
              "}\n",
              "\n",
              "// Max number of bytes which will be uploaded at a time.\n",
              "const MAX_PAYLOAD_SIZE = 100 * 1024;\n",
              "\n",
              "function _uploadFiles(inputId, outputId) {\n",
              "  const steps = uploadFilesStep(inputId, outputId);\n",
              "  const outputElement = document.getElementById(outputId);\n",
              "  // Cache steps on the outputElement to make it available for the next call\n",
              "  // to uploadFilesContinue from Python.\n",
              "  outputElement.steps = steps;\n",
              "\n",
              "  return _uploadFilesContinue(outputId);\n",
              "}\n",
              "\n",
              "// This is roughly an async generator (not supported in the browser yet),\n",
              "// where there are multiple asynchronous steps and the Python side is going\n",
              "// to poll for completion of each step.\n",
              "// This uses a Promise to block the python side on completion of each step,\n",
              "// then passes the result of the previous step as the input to the next step.\n",
              "function _uploadFilesContinue(outputId) {\n",
              "  const outputElement = document.getElementById(outputId);\n",
              "  const steps = outputElement.steps;\n",
              "\n",
              "  const next = steps.next(outputElement.lastPromiseValue);\n",
              "  return Promise.resolve(next.value.promise).then((value) => {\n",
              "    // Cache the last promise value to make it available to the next\n",
              "    // step of the generator.\n",
              "    outputElement.lastPromiseValue = value;\n",
              "    return next.value.response;\n",
              "  });\n",
              "}\n",
              "\n",
              "/**\n",
              " * Generator function which is called between each async step of the upload\n",
              " * process.\n",
              " * @param {string} inputId Element ID of the input file picker element.\n",
              " * @param {string} outputId Element ID of the output display.\n",
              " * @return {!Iterable<!Object>} Iterable of next steps.\n",
              " */\n",
              "function* uploadFilesStep(inputId, outputId) {\n",
              "  const inputElement = document.getElementById(inputId);\n",
              "  inputElement.disabled = false;\n",
              "\n",
              "  const outputElement = document.getElementById(outputId);\n",
              "  outputElement.innerHTML = '';\n",
              "\n",
              "  const pickedPromise = new Promise((resolve) => {\n",
              "    inputElement.addEventListener('change', (e) => {\n",
              "      resolve(e.target.files);\n",
              "    });\n",
              "  });\n",
              "\n",
              "  const cancel = document.createElement('button');\n",
              "  inputElement.parentElement.appendChild(cancel);\n",
              "  cancel.textContent = 'Cancel upload';\n",
              "  const cancelPromise = new Promise((resolve) => {\n",
              "    cancel.onclick = () => {\n",
              "      resolve(null);\n",
              "    };\n",
              "  });\n",
              "\n",
              "  // Wait for the user to pick the files.\n",
              "  const files = yield {\n",
              "    promise: Promise.race([pickedPromise, cancelPromise]),\n",
              "    response: {\n",
              "      action: 'starting',\n",
              "    }\n",
              "  };\n",
              "\n",
              "  cancel.remove();\n",
              "\n",
              "  // Disable the input element since further picks are not allowed.\n",
              "  inputElement.disabled = true;\n",
              "\n",
              "  if (!files) {\n",
              "    return {\n",
              "      response: {\n",
              "        action: 'complete',\n",
              "      }\n",
              "    };\n",
              "  }\n",
              "\n",
              "  for (const file of files) {\n",
              "    const li = document.createElement('li');\n",
              "    li.append(span(file.name, {fontWeight: 'bold'}));\n",
              "    li.append(span(\n",
              "        `(${file.type || 'n/a'}) - ${file.size} bytes, ` +\n",
              "        `last modified: ${\n",
              "            file.lastModifiedDate ? file.lastModifiedDate.toLocaleDateString() :\n",
              "                                    'n/a'} - `));\n",
              "    const percent = span('0% done');\n",
              "    li.appendChild(percent);\n",
              "\n",
              "    outputElement.appendChild(li);\n",
              "\n",
              "    const fileDataPromise = new Promise((resolve) => {\n",
              "      const reader = new FileReader();\n",
              "      reader.onload = (e) => {\n",
              "        resolve(e.target.result);\n",
              "      };\n",
              "      reader.readAsArrayBuffer(file);\n",
              "    });\n",
              "    // Wait for the data to be ready.\n",
              "    let fileData = yield {\n",
              "      promise: fileDataPromise,\n",
              "      response: {\n",
              "        action: 'continue',\n",
              "      }\n",
              "    };\n",
              "\n",
              "    // Use a chunked sending to avoid message size limits. See b/62115660.\n",
              "    let position = 0;\n",
              "    do {\n",
              "      const length = Math.min(fileData.byteLength - position, MAX_PAYLOAD_SIZE);\n",
              "      const chunk = new Uint8Array(fileData, position, length);\n",
              "      position += length;\n",
              "\n",
              "      const base64 = btoa(String.fromCharCode.apply(null, chunk));\n",
              "      yield {\n",
              "        response: {\n",
              "          action: 'append',\n",
              "          file: file.name,\n",
              "          data: base64,\n",
              "        },\n",
              "      };\n",
              "\n",
              "      let percentDone = fileData.byteLength === 0 ?\n",
              "          100 :\n",
              "          Math.round((position / fileData.byteLength) * 100);\n",
              "      percent.textContent = `${percentDone}% done`;\n",
              "\n",
              "    } while (position < fileData.byteLength);\n",
              "  }\n",
              "\n",
              "  // All done.\n",
              "  yield {\n",
              "    response: {\n",
              "      action: 'complete',\n",
              "    }\n",
              "  };\n",
              "}\n",
              "\n",
              "scope.google = scope.google || {};\n",
              "scope.google.colab = scope.google.colab || {};\n",
              "scope.google.colab._files = {\n",
              "  _uploadFiles,\n",
              "  _uploadFilesContinue,\n",
              "};\n",
              "})(self);\n",
              "</script> "
            ]
          },
          "metadata": {}
        },
        {
          "output_type": "stream",
          "name": "stdout",
          "text": [
            "Saving medical_students_dataset.csv to medical_students_dataset (7).csv\n",
            "<class 'pandas.core.frame.DataFrame'>\n",
            "RangeIndex: 200000 entries, 0 to 199999\n",
            "Data columns (total 13 columns):\n",
            " #   Column          Non-Null Count   Dtype  \n",
            "---  ------          --------------   -----  \n",
            " 0   Student ID      180000 non-null  float64\n",
            " 1   Age             180000 non-null  float64\n",
            " 2   Gender          180000 non-null  object \n",
            " 3   Height          180000 non-null  float64\n",
            " 4   Weight          180000 non-null  float64\n",
            " 5   Blood type      180000 non-null  object \n",
            " 6   BMI             180000 non-null  float64\n",
            " 7   Temperature     180000 non-null  float64\n",
            " 8   Heart Rate      180000 non-null  float64\n",
            " 9   Blood Pressure  180000 non-null  float64\n",
            " 10  Cholesterol     180000 non-null  float64\n",
            " 11  Diabetes        180000 non-null  object \n",
            " 12  Smoking         180000 non-null  object \n",
            "dtypes: float64(9), object(4)\n",
            "memory usage: 19.8+ MB\n",
            "Columns with null values: \n",
            "Index(['Student ID', 'Age', 'Gender', 'Height', 'Weight', 'Blood type', 'BMI',\n",
            "       'Temperature', 'Heart Rate', 'Blood Pressure', 'Cholesterol',\n",
            "       'Diabetes', 'Smoking'],\n",
            "      dtype='object')\n",
            "\n",
            "Missing values: \n",
            "Student ID        20000\n",
            "Age                   0\n",
            "Gender                0\n",
            "Height                0\n",
            "Weight                0\n",
            "Blood type            0\n",
            "BMI                   0\n",
            "Temperature           0\n",
            "Heart Rate            0\n",
            "Blood Pressure        0\n",
            "Cholesterol           0\n",
            "Diabetes              0\n",
            "Smoking               1\n",
            "dtype: int64\n",
            "\n",
            "Dropped 12067 duplicate rows.\n",
            "\n",
            "Remaining duplicates after cleaning: 0\n"
          ]
        }
      ]
    },
    {
      "cell_type": "markdown",
      "source": [
        "1. Student id: I did not impute this data as the missing values of student id might indicate data entry issue or specific reason for not having an ID.\n",
        "\n",
        "2. Age, Height, Weight, and BMI: Mean imputation as this preserves the overall tendency of the age distribution.\n",
        "\n",
        "3. Gender: ffill method as the mising values are sparse and gender is consistent across observation.\n",
        "\n",
        "4. Blood type: ffill imputation as B is the most dominant blood type in the dataset.\n",
        "\n",
        "5. Temperature, Heart rate, Blood pressure and cholestrol: Mean imputation as these maintain the statistical characteristics of each variable.\n",
        "\n",
        "6. Diabetes, Smoking: Filling with most frequest answer i.e. no in this case."
      ],
      "metadata": {
        "id": "7lBSXYARmaDI"
      }
    },
    {
      "cell_type": "markdown",
      "source": [
        "Exercise 3"
      ],
      "metadata": {
        "id": "xK37yEQb6kvQ"
      }
    },
    {
      "cell_type": "code",
      "source": [
        "from google.colab import files\n",
        "import pandas as pd\n",
        "import io\n",
        "\n",
        "uploaded = files.upload()\n",
        "file_name = next(iter(uploaded))\n",
        "df = pd.read_csv(io.BytesIO(uploaded[file_name]))\n",
        "\n",
        "# binary transformation\n",
        "df['schoolsup_binary']=df['schoolsup'].apply(lambda x: 1 if x == 'yes' else 0)\n",
        "df['internet_binary']=df['internet'].apply(lambda x: 1 if x == 'yes' else 0)\n",
        "df['activities_binary']=df['activities'].apply(lambda x: 1 if x == 'yes' else 0)\n",
        "df.head()\n",
        "\n",
        "# ordinal no. transformation\n",
        "ordinal_cols = ['Medu', 'reason', 'guardian', 'studytime', 'health']\n",
        "for col in ordinal_cols:\n",
        "  df[f'{col}_ordinal'] = df[col].astype('category').cat.codes\n",
        "df.head()\n",
        "\n",
        "# convert age to interval datatype and create a new column named category_age\n",
        "def categorize_age(age):\n",
        "  if 15 <= age <= 17:\n",
        "    return 'interval1'\n",
        "  elif 18 <= age <= 20:\n",
        "    return 'interval2'\n",
        "  elif age >= 21:\n",
        "    return 'interval3'\n",
        "  else:\n",
        "    return 'interval4'\n",
        "\n",
        "df['category_age'] = df['age'].apply(categorize_age)\n",
        "df.head()\n",
        "\n",
        "# create a new column named passed based on the values in the G3 column\n",
        "df['passed'] = df['G3'].apply(lambda x: 'yes' if x >= 8 else 'no')\n",
        "df.head()\n"
      ],
      "metadata": {
        "id": "vjMoEoum6mGL",
        "colab": {
          "base_uri": "https://localhost:8080/",
          "height": 311
        },
        "outputId": "ecbf2d2b-23da-42b1-9ad9-b07954b865b4"
      },
      "execution_count": null,
      "outputs": [
        {
          "output_type": "display_data",
          "data": {
            "text/plain": [
              "<IPython.core.display.HTML object>"
            ],
            "text/html": [
              "\n",
              "     <input type=\"file\" id=\"files-ca3255b4-9a7e-4422-909b-3dd58cb15756\" name=\"files[]\" multiple disabled\n",
              "        style=\"border:none\" />\n",
              "     <output id=\"result-ca3255b4-9a7e-4422-909b-3dd58cb15756\">\n",
              "      Upload widget is only available when the cell has been executed in the\n",
              "      current browser session. Please rerun this cell to enable.\n",
              "      </output>\n",
              "      <script>// Copyright 2017 Google LLC\n",
              "//\n",
              "// Licensed under the Apache License, Version 2.0 (the \"License\");\n",
              "// you may not use this file except in compliance with the License.\n",
              "// You may obtain a copy of the License at\n",
              "//\n",
              "//      http://www.apache.org/licenses/LICENSE-2.0\n",
              "//\n",
              "// Unless required by applicable law or agreed to in writing, software\n",
              "// distributed under the License is distributed on an \"AS IS\" BASIS,\n",
              "// WITHOUT WARRANTIES OR CONDITIONS OF ANY KIND, either express or implied.\n",
              "// See the License for the specific language governing permissions and\n",
              "// limitations under the License.\n",
              "\n",
              "/**\n",
              " * @fileoverview Helpers for google.colab Python module.\n",
              " */\n",
              "(function(scope) {\n",
              "function span(text, styleAttributes = {}) {\n",
              "  const element = document.createElement('span');\n",
              "  element.textContent = text;\n",
              "  for (const key of Object.keys(styleAttributes)) {\n",
              "    element.style[key] = styleAttributes[key];\n",
              "  }\n",
              "  return element;\n",
              "}\n",
              "\n",
              "// Max number of bytes which will be uploaded at a time.\n",
              "const MAX_PAYLOAD_SIZE = 100 * 1024;\n",
              "\n",
              "function _uploadFiles(inputId, outputId) {\n",
              "  const steps = uploadFilesStep(inputId, outputId);\n",
              "  const outputElement = document.getElementById(outputId);\n",
              "  // Cache steps on the outputElement to make it available for the next call\n",
              "  // to uploadFilesContinue from Python.\n",
              "  outputElement.steps = steps;\n",
              "\n",
              "  return _uploadFilesContinue(outputId);\n",
              "}\n",
              "\n",
              "// This is roughly an async generator (not supported in the browser yet),\n",
              "// where there are multiple asynchronous steps and the Python side is going\n",
              "// to poll for completion of each step.\n",
              "// This uses a Promise to block the python side on completion of each step,\n",
              "// then passes the result of the previous step as the input to the next step.\n",
              "function _uploadFilesContinue(outputId) {\n",
              "  const outputElement = document.getElementById(outputId);\n",
              "  const steps = outputElement.steps;\n",
              "\n",
              "  const next = steps.next(outputElement.lastPromiseValue);\n",
              "  return Promise.resolve(next.value.promise).then((value) => {\n",
              "    // Cache the last promise value to make it available to the next\n",
              "    // step of the generator.\n",
              "    outputElement.lastPromiseValue = value;\n",
              "    return next.value.response;\n",
              "  });\n",
              "}\n",
              "\n",
              "/**\n",
              " * Generator function which is called between each async step of the upload\n",
              " * process.\n",
              " * @param {string} inputId Element ID of the input file picker element.\n",
              " * @param {string} outputId Element ID of the output display.\n",
              " * @return {!Iterable<!Object>} Iterable of next steps.\n",
              " */\n",
              "function* uploadFilesStep(inputId, outputId) {\n",
              "  const inputElement = document.getElementById(inputId);\n",
              "  inputElement.disabled = false;\n",
              "\n",
              "  const outputElement = document.getElementById(outputId);\n",
              "  outputElement.innerHTML = '';\n",
              "\n",
              "  const pickedPromise = new Promise((resolve) => {\n",
              "    inputElement.addEventListener('change', (e) => {\n",
              "      resolve(e.target.files);\n",
              "    });\n",
              "  });\n",
              "\n",
              "  const cancel = document.createElement('button');\n",
              "  inputElement.parentElement.appendChild(cancel);\n",
              "  cancel.textContent = 'Cancel upload';\n",
              "  const cancelPromise = new Promise((resolve) => {\n",
              "    cancel.onclick = () => {\n",
              "      resolve(null);\n",
              "    };\n",
              "  });\n",
              "\n",
              "  // Wait for the user to pick the files.\n",
              "  const files = yield {\n",
              "    promise: Promise.race([pickedPromise, cancelPromise]),\n",
              "    response: {\n",
              "      action: 'starting',\n",
              "    }\n",
              "  };\n",
              "\n",
              "  cancel.remove();\n",
              "\n",
              "  // Disable the input element since further picks are not allowed.\n",
              "  inputElement.disabled = true;\n",
              "\n",
              "  if (!files) {\n",
              "    return {\n",
              "      response: {\n",
              "        action: 'complete',\n",
              "      }\n",
              "    };\n",
              "  }\n",
              "\n",
              "  for (const file of files) {\n",
              "    const li = document.createElement('li');\n",
              "    li.append(span(file.name, {fontWeight: 'bold'}));\n",
              "    li.append(span(\n",
              "        `(${file.type || 'n/a'}) - ${file.size} bytes, ` +\n",
              "        `last modified: ${\n",
              "            file.lastModifiedDate ? file.lastModifiedDate.toLocaleDateString() :\n",
              "                                    'n/a'} - `));\n",
              "    const percent = span('0% done');\n",
              "    li.appendChild(percent);\n",
              "\n",
              "    outputElement.appendChild(li);\n",
              "\n",
              "    const fileDataPromise = new Promise((resolve) => {\n",
              "      const reader = new FileReader();\n",
              "      reader.onload = (e) => {\n",
              "        resolve(e.target.result);\n",
              "      };\n",
              "      reader.readAsArrayBuffer(file);\n",
              "    });\n",
              "    // Wait for the data to be ready.\n",
              "    let fileData = yield {\n",
              "      promise: fileDataPromise,\n",
              "      response: {\n",
              "        action: 'continue',\n",
              "      }\n",
              "    };\n",
              "\n",
              "    // Use a chunked sending to avoid message size limits. See b/62115660.\n",
              "    let position = 0;\n",
              "    do {\n",
              "      const length = Math.min(fileData.byteLength - position, MAX_PAYLOAD_SIZE);\n",
              "      const chunk = new Uint8Array(fileData, position, length);\n",
              "      position += length;\n",
              "\n",
              "      const base64 = btoa(String.fromCharCode.apply(null, chunk));\n",
              "      yield {\n",
              "        response: {\n",
              "          action: 'append',\n",
              "          file: file.name,\n",
              "          data: base64,\n",
              "        },\n",
              "      };\n",
              "\n",
              "      let percentDone = fileData.byteLength === 0 ?\n",
              "          100 :\n",
              "          Math.round((position / fileData.byteLength) * 100);\n",
              "      percent.textContent = `${percentDone}% done`;\n",
              "\n",
              "    } while (position < fileData.byteLength);\n",
              "  }\n",
              "\n",
              "  // All done.\n",
              "  yield {\n",
              "    response: {\n",
              "      action: 'complete',\n",
              "    }\n",
              "  };\n",
              "}\n",
              "\n",
              "scope.google = scope.google || {};\n",
              "scope.google.colab = scope.google.colab || {};\n",
              "scope.google.colab._files = {\n",
              "  _uploadFiles,\n",
              "  _uploadFilesContinue,\n",
              "};\n",
              "})(self);\n",
              "</script> "
            ]
          },
          "metadata": {}
        },
        {
          "output_type": "stream",
          "name": "stdout",
          "text": [
            "Saving performance.csv to performance (5).csv\n"
          ]
        },
        {
          "output_type": "execute_result",
          "data": {
            "text/plain": [
              "  school sex  age address famsize Pstatus  Medu  Fedu     Mjob      Fjob  ...  \\\n",
              "0     GP   F   18       U     GT3       A     4     4  at_home   teacher  ...   \n",
              "1     GP   F   17       U     GT3       T     1     1  at_home     other  ...   \n",
              "2     GP   F   15       U     LE3       T     1     1  at_home     other  ...   \n",
              "3     GP   F   15       U     GT3       T     4     2   health  services  ...   \n",
              "4     GP   F   16       U     GT3       T     3     3    other     other  ...   \n",
              "\n",
              "  schoolsup_binary internet_binary  activities_binary  Medu_ordinal  \\\n",
              "0                1               0                  0             4   \n",
              "1                0               1                  0             1   \n",
              "2                1               1                  0             1   \n",
              "3                0               1                  1             4   \n",
              "4                0               0                  0             3   \n",
              "\n",
              "   reason_ordinal guardian_ordinal studytime_ordinal health_ordinal  \\\n",
              "0               0                1                 1              2   \n",
              "1               0                0                 1              2   \n",
              "2               2                1                 1              2   \n",
              "3               1                1                 2              4   \n",
              "4               1                0                 1              4   \n",
              "\n",
              "  category_age passed  \n",
              "0    interval2     no  \n",
              "1    interval1     no  \n",
              "2    interval1    yes  \n",
              "3    interval1    yes  \n",
              "4    interval1    yes  \n",
              "\n",
              "[5 rows x 43 columns]"
            ],
            "text/html": [
              "\n",
              "  <div id=\"df-4a36bbc4-ec3a-4a5f-8c3b-eb973752c61d\" class=\"colab-df-container\">\n",
              "    <div>\n",
              "<style scoped>\n",
              "    .dataframe tbody tr th:only-of-type {\n",
              "        vertical-align: middle;\n",
              "    }\n",
              "\n",
              "    .dataframe tbody tr th {\n",
              "        vertical-align: top;\n",
              "    }\n",
              "\n",
              "    .dataframe thead th {\n",
              "        text-align: right;\n",
              "    }\n",
              "</style>\n",
              "<table border=\"1\" class=\"dataframe\">\n",
              "  <thead>\n",
              "    <tr style=\"text-align: right;\">\n",
              "      <th></th>\n",
              "      <th>school</th>\n",
              "      <th>sex</th>\n",
              "      <th>age</th>\n",
              "      <th>address</th>\n",
              "      <th>famsize</th>\n",
              "      <th>Pstatus</th>\n",
              "      <th>Medu</th>\n",
              "      <th>Fedu</th>\n",
              "      <th>Mjob</th>\n",
              "      <th>Fjob</th>\n",
              "      <th>...</th>\n",
              "      <th>schoolsup_binary</th>\n",
              "      <th>internet_binary</th>\n",
              "      <th>activities_binary</th>\n",
              "      <th>Medu_ordinal</th>\n",
              "      <th>reason_ordinal</th>\n",
              "      <th>guardian_ordinal</th>\n",
              "      <th>studytime_ordinal</th>\n",
              "      <th>health_ordinal</th>\n",
              "      <th>category_age</th>\n",
              "      <th>passed</th>\n",
              "    </tr>\n",
              "  </thead>\n",
              "  <tbody>\n",
              "    <tr>\n",
              "      <th>0</th>\n",
              "      <td>GP</td>\n",
              "      <td>F</td>\n",
              "      <td>18</td>\n",
              "      <td>U</td>\n",
              "      <td>GT3</td>\n",
              "      <td>A</td>\n",
              "      <td>4</td>\n",
              "      <td>4</td>\n",
              "      <td>at_home</td>\n",
              "      <td>teacher</td>\n",
              "      <td>...</td>\n",
              "      <td>1</td>\n",
              "      <td>0</td>\n",
              "      <td>0</td>\n",
              "      <td>4</td>\n",
              "      <td>0</td>\n",
              "      <td>1</td>\n",
              "      <td>1</td>\n",
              "      <td>2</td>\n",
              "      <td>interval2</td>\n",
              "      <td>no</td>\n",
              "    </tr>\n",
              "    <tr>\n",
              "      <th>1</th>\n",
              "      <td>GP</td>\n",
              "      <td>F</td>\n",
              "      <td>17</td>\n",
              "      <td>U</td>\n",
              "      <td>GT3</td>\n",
              "      <td>T</td>\n",
              "      <td>1</td>\n",
              "      <td>1</td>\n",
              "      <td>at_home</td>\n",
              "      <td>other</td>\n",
              "      <td>...</td>\n",
              "      <td>0</td>\n",
              "      <td>1</td>\n",
              "      <td>0</td>\n",
              "      <td>1</td>\n",
              "      <td>0</td>\n",
              "      <td>0</td>\n",
              "      <td>1</td>\n",
              "      <td>2</td>\n",
              "      <td>interval1</td>\n",
              "      <td>no</td>\n",
              "    </tr>\n",
              "    <tr>\n",
              "      <th>2</th>\n",
              "      <td>GP</td>\n",
              "      <td>F</td>\n",
              "      <td>15</td>\n",
              "      <td>U</td>\n",
              "      <td>LE3</td>\n",
              "      <td>T</td>\n",
              "      <td>1</td>\n",
              "      <td>1</td>\n",
              "      <td>at_home</td>\n",
              "      <td>other</td>\n",
              "      <td>...</td>\n",
              "      <td>1</td>\n",
              "      <td>1</td>\n",
              "      <td>0</td>\n",
              "      <td>1</td>\n",
              "      <td>2</td>\n",
              "      <td>1</td>\n",
              "      <td>1</td>\n",
              "      <td>2</td>\n",
              "      <td>interval1</td>\n",
              "      <td>yes</td>\n",
              "    </tr>\n",
              "    <tr>\n",
              "      <th>3</th>\n",
              "      <td>GP</td>\n",
              "      <td>F</td>\n",
              "      <td>15</td>\n",
              "      <td>U</td>\n",
              "      <td>GT3</td>\n",
              "      <td>T</td>\n",
              "      <td>4</td>\n",
              "      <td>2</td>\n",
              "      <td>health</td>\n",
              "      <td>services</td>\n",
              "      <td>...</td>\n",
              "      <td>0</td>\n",
              "      <td>1</td>\n",
              "      <td>1</td>\n",
              "      <td>4</td>\n",
              "      <td>1</td>\n",
              "      <td>1</td>\n",
              "      <td>2</td>\n",
              "      <td>4</td>\n",
              "      <td>interval1</td>\n",
              "      <td>yes</td>\n",
              "    </tr>\n",
              "    <tr>\n",
              "      <th>4</th>\n",
              "      <td>GP</td>\n",
              "      <td>F</td>\n",
              "      <td>16</td>\n",
              "      <td>U</td>\n",
              "      <td>GT3</td>\n",
              "      <td>T</td>\n",
              "      <td>3</td>\n",
              "      <td>3</td>\n",
              "      <td>other</td>\n",
              "      <td>other</td>\n",
              "      <td>...</td>\n",
              "      <td>0</td>\n",
              "      <td>0</td>\n",
              "      <td>0</td>\n",
              "      <td>3</td>\n",
              "      <td>1</td>\n",
              "      <td>0</td>\n",
              "      <td>1</td>\n",
              "      <td>4</td>\n",
              "      <td>interval1</td>\n",
              "      <td>yes</td>\n",
              "    </tr>\n",
              "  </tbody>\n",
              "</table>\n",
              "<p>5 rows × 43 columns</p>\n",
              "</div>\n",
              "    <div class=\"colab-df-buttons\">\n",
              "\n",
              "  <div class=\"colab-df-container\">\n",
              "    <button class=\"colab-df-convert\" onclick=\"convertToInteractive('df-4a36bbc4-ec3a-4a5f-8c3b-eb973752c61d')\"\n",
              "            title=\"Convert this dataframe to an interactive table.\"\n",
              "            style=\"display:none;\">\n",
              "\n",
              "  <svg xmlns=\"http://www.w3.org/2000/svg\" height=\"24px\" viewBox=\"0 -960 960 960\">\n",
              "    <path d=\"M120-120v-720h720v720H120Zm60-500h600v-160H180v160Zm220 220h160v-160H400v160Zm0 220h160v-160H400v160ZM180-400h160v-160H180v160Zm440 0h160v-160H620v160ZM180-180h160v-160H180v160Zm440 0h160v-160H620v160Z\"/>\n",
              "  </svg>\n",
              "    </button>\n",
              "\n",
              "  <style>\n",
              "    .colab-df-container {\n",
              "      display:flex;\n",
              "      gap: 12px;\n",
              "    }\n",
              "\n",
              "    .colab-df-convert {\n",
              "      background-color: #E8F0FE;\n",
              "      border: none;\n",
              "      border-radius: 50%;\n",
              "      cursor: pointer;\n",
              "      display: none;\n",
              "      fill: #1967D2;\n",
              "      height: 32px;\n",
              "      padding: 0 0 0 0;\n",
              "      width: 32px;\n",
              "    }\n",
              "\n",
              "    .colab-df-convert:hover {\n",
              "      background-color: #E2EBFA;\n",
              "      box-shadow: 0px 1px 2px rgba(60, 64, 67, 0.3), 0px 1px 3px 1px rgba(60, 64, 67, 0.15);\n",
              "      fill: #174EA6;\n",
              "    }\n",
              "\n",
              "    .colab-df-buttons div {\n",
              "      margin-bottom: 4px;\n",
              "    }\n",
              "\n",
              "    [theme=dark] .colab-df-convert {\n",
              "      background-color: #3B4455;\n",
              "      fill: #D2E3FC;\n",
              "    }\n",
              "\n",
              "    [theme=dark] .colab-df-convert:hover {\n",
              "      background-color: #434B5C;\n",
              "      box-shadow: 0px 1px 3px 1px rgba(0, 0, 0, 0.15);\n",
              "      filter: drop-shadow(0px 1px 2px rgba(0, 0, 0, 0.3));\n",
              "      fill: #FFFFFF;\n",
              "    }\n",
              "  </style>\n",
              "\n",
              "    <script>\n",
              "      const buttonEl =\n",
              "        document.querySelector('#df-4a36bbc4-ec3a-4a5f-8c3b-eb973752c61d button.colab-df-convert');\n",
              "      buttonEl.style.display =\n",
              "        google.colab.kernel.accessAllowed ? 'block' : 'none';\n",
              "\n",
              "      async function convertToInteractive(key) {\n",
              "        const element = document.querySelector('#df-4a36bbc4-ec3a-4a5f-8c3b-eb973752c61d');\n",
              "        const dataTable =\n",
              "          await google.colab.kernel.invokeFunction('convertToInteractive',\n",
              "                                                    [key], {});\n",
              "        if (!dataTable) return;\n",
              "\n",
              "        const docLinkHtml = 'Like what you see? Visit the ' +\n",
              "          '<a target=\"_blank\" href=https://colab.research.google.com/notebooks/data_table.ipynb>data table notebook</a>'\n",
              "          + ' to learn more about interactive tables.';\n",
              "        element.innerHTML = '';\n",
              "        dataTable['output_type'] = 'display_data';\n",
              "        await google.colab.output.renderOutput(dataTable, element);\n",
              "        const docLink = document.createElement('div');\n",
              "        docLink.innerHTML = docLinkHtml;\n",
              "        element.appendChild(docLink);\n",
              "      }\n",
              "    </script>\n",
              "  </div>\n",
              "\n",
              "\n",
              "<div id=\"df-013b455e-8d29-466a-8acb-638df8fa8488\">\n",
              "  <button class=\"colab-df-quickchart\" onclick=\"quickchart('df-013b455e-8d29-466a-8acb-638df8fa8488')\"\n",
              "            title=\"Suggest charts\"\n",
              "            style=\"display:none;\">\n",
              "\n",
              "<svg xmlns=\"http://www.w3.org/2000/svg\" height=\"24px\"viewBox=\"0 0 24 24\"\n",
              "     width=\"24px\">\n",
              "    <g>\n",
              "        <path d=\"M19 3H5c-1.1 0-2 .9-2 2v14c0 1.1.9 2 2 2h14c1.1 0 2-.9 2-2V5c0-1.1-.9-2-2-2zM9 17H7v-7h2v7zm4 0h-2V7h2v10zm4 0h-2v-4h2v4z\"/>\n",
              "    </g>\n",
              "</svg>\n",
              "  </button>\n",
              "\n",
              "<style>\n",
              "  .colab-df-quickchart {\n",
              "      --bg-color: #E8F0FE;\n",
              "      --fill-color: #1967D2;\n",
              "      --hover-bg-color: #E2EBFA;\n",
              "      --hover-fill-color: #174EA6;\n",
              "      --disabled-fill-color: #AAA;\n",
              "      --disabled-bg-color: #DDD;\n",
              "  }\n",
              "\n",
              "  [theme=dark] .colab-df-quickchart {\n",
              "      --bg-color: #3B4455;\n",
              "      --fill-color: #D2E3FC;\n",
              "      --hover-bg-color: #434B5C;\n",
              "      --hover-fill-color: #FFFFFF;\n",
              "      --disabled-bg-color: #3B4455;\n",
              "      --disabled-fill-color: #666;\n",
              "  }\n",
              "\n",
              "  .colab-df-quickchart {\n",
              "    background-color: var(--bg-color);\n",
              "    border: none;\n",
              "    border-radius: 50%;\n",
              "    cursor: pointer;\n",
              "    display: none;\n",
              "    fill: var(--fill-color);\n",
              "    height: 32px;\n",
              "    padding: 0;\n",
              "    width: 32px;\n",
              "  }\n",
              "\n",
              "  .colab-df-quickchart:hover {\n",
              "    background-color: var(--hover-bg-color);\n",
              "    box-shadow: 0 1px 2px rgba(60, 64, 67, 0.3), 0 1px 3px 1px rgba(60, 64, 67, 0.15);\n",
              "    fill: var(--button-hover-fill-color);\n",
              "  }\n",
              "\n",
              "  .colab-df-quickchart-complete:disabled,\n",
              "  .colab-df-quickchart-complete:disabled:hover {\n",
              "    background-color: var(--disabled-bg-color);\n",
              "    fill: var(--disabled-fill-color);\n",
              "    box-shadow: none;\n",
              "  }\n",
              "\n",
              "  .colab-df-spinner {\n",
              "    border: 2px solid var(--fill-color);\n",
              "    border-color: transparent;\n",
              "    border-bottom-color: var(--fill-color);\n",
              "    animation:\n",
              "      spin 1s steps(1) infinite;\n",
              "  }\n",
              "\n",
              "  @keyframes spin {\n",
              "    0% {\n",
              "      border-color: transparent;\n",
              "      border-bottom-color: var(--fill-color);\n",
              "      border-left-color: var(--fill-color);\n",
              "    }\n",
              "    20% {\n",
              "      border-color: transparent;\n",
              "      border-left-color: var(--fill-color);\n",
              "      border-top-color: var(--fill-color);\n",
              "    }\n",
              "    30% {\n",
              "      border-color: transparent;\n",
              "      border-left-color: var(--fill-color);\n",
              "      border-top-color: var(--fill-color);\n",
              "      border-right-color: var(--fill-color);\n",
              "    }\n",
              "    40% {\n",
              "      border-color: transparent;\n",
              "      border-right-color: var(--fill-color);\n",
              "      border-top-color: var(--fill-color);\n",
              "    }\n",
              "    60% {\n",
              "      border-color: transparent;\n",
              "      border-right-color: var(--fill-color);\n",
              "    }\n",
              "    80% {\n",
              "      border-color: transparent;\n",
              "      border-right-color: var(--fill-color);\n",
              "      border-bottom-color: var(--fill-color);\n",
              "    }\n",
              "    90% {\n",
              "      border-color: transparent;\n",
              "      border-bottom-color: var(--fill-color);\n",
              "    }\n",
              "  }\n",
              "</style>\n",
              "\n",
              "  <script>\n",
              "    async function quickchart(key) {\n",
              "      const quickchartButtonEl =\n",
              "        document.querySelector('#' + key + ' button');\n",
              "      quickchartButtonEl.disabled = true;  // To prevent multiple clicks.\n",
              "      quickchartButtonEl.classList.add('colab-df-spinner');\n",
              "      try {\n",
              "        const charts = await google.colab.kernel.invokeFunction(\n",
              "            'suggestCharts', [key], {});\n",
              "      } catch (error) {\n",
              "        console.error('Error during call to suggestCharts:', error);\n",
              "      }\n",
              "      quickchartButtonEl.classList.remove('colab-df-spinner');\n",
              "      quickchartButtonEl.classList.add('colab-df-quickchart-complete');\n",
              "    }\n",
              "    (() => {\n",
              "      let quickchartButtonEl =\n",
              "        document.querySelector('#df-013b455e-8d29-466a-8acb-638df8fa8488 button');\n",
              "      quickchartButtonEl.style.display =\n",
              "        google.colab.kernel.accessAllowed ? 'block' : 'none';\n",
              "    })();\n",
              "  </script>\n",
              "</div>\n",
              "\n",
              "    </div>\n",
              "  </div>\n"
            ],
            "application/vnd.google.colaboratory.intrinsic+json": {
              "type": "dataframe",
              "variable_name": "df"
            }
          },
          "metadata": {},
          "execution_count": 7
        }
      ]
    }
  ]
}